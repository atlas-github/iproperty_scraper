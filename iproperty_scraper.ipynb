{
  "nbformat": 4,
  "nbformat_minor": 0,
  "metadata": {
    "colab": {
      "name": "iproperty_scraper.ipynb",
      "provenance": [],
      "collapsed_sections": [],
      "authorship_tag": "ABX9TyMsap4JAXgmKfJOJ2oZyrXX",
      "include_colab_link": true
    },
    "kernelspec": {
      "name": "python3",
      "display_name": "Python 3"
    }
  },
  "cells": [
    {
      "cell_type": "markdown",
      "metadata": {
        "id": "view-in-github",
        "colab_type": "text"
      },
      "source": [
        "<a href=\"https://colab.research.google.com/github/atlas-github/iproperty_scraper/blob/master/iproperty_scraper.ipynb\" target=\"_parent\"><img src=\"https://colab.research.google.com/assets/colab-badge.svg\" alt=\"Open In Colab\"/></a>"
      ]
    },
    {
      "cell_type": "code",
      "metadata": {
        "id": "ThOq2k9KQKIv",
        "colab_type": "code",
        "colab": {}
      },
      "source": [
        "import pandas as pd\n",
        "import requests\n",
        "import urllib.request\n",
        "import time\n",
        "from bs4 import BeautifulSoup\n",
        "\n",
        "cookies = {\n",
        "    'JSESSIONID': '44135523471d5c41',\n",
        "}\n",
        "\n",
        "headers = {\n",
        "    'authority': 'www.google-analytics.com',\n",
        "    'upgrade-insecure-requests': '1',\n",
        "    'dnt': '1',\n",
        "    'user-agent': 'Mozilla/5.0 (Linux; Android 6.0; Nexus 5 Build/MRA58N) AppleWebKit/537.36 (KHTML, like Gecko) Chrome/80.0.3987.149 Mobile Safari/537.36',\n",
        "    'sec-fetch-dest': 'image',\n",
        "    'accept': 'image/webp,image/apng,image/*,*/*;q=0.8',\n",
        "    'sec-fetch-site': 'cross-site',\n",
        "    'sec-fetch-mode': 'no-cors',\n",
        "    'sec-fetch-user': '?1',\n",
        "    'referer': 'https://www.iproperty.com.my/property/findanagent.aspx?ty=as&ak=&rk=&rmp=10&pg=1&st=&ct=&st1=&ct1=',\n",
        "    'accept-language': 'en-US,en;q=0.9,ms;q=0.8',\n",
        "    'cookie': 'sb=ttOLXmWVjU_AYqwXKGqExKjv; datr=ttOLXjUYHZIiDqQeh-h3VLYP; locale=en_US; c_user=641411155; xs=186%3AXzqcA55KWV8g-w%3A2%3A1586222035%3A10708%3A6401; spin=r.1001951938_b.trunk_t.1586222035_s.1_v.2_; ; presence=EDvF3EtimeF1586237646EuserFA2641411155A2EstateFDt3F_5b_5dElm3FA2user_3a249944268675281A2Eutc3F1586237645964G586237646038CEchF_7bCC; wd=1268x959; fr=1C5FzrVgkEyjIIZ8Y.AWWGNSv2kT73foro1R9v5OXbueE.Bei9O2.1Z.F6L.0.0.BejFWm.AWVrWLuL',\n",
        "    'Referer': 'https://www.iproperty.com.my/property/findanagent.aspx?ty=as&ak=&rk=&rmp=10&pg=1&st=&ct=&st1=&ct1=',\n",
        "    'Sec-Fetch-Dest': 'empty',\n",
        "    'User-Agent': 'Mozilla/5.0 (Linux; Android 6.0; Nexus 5 Build/MRA58N) AppleWebKit/537.36 (KHTML, like Gecko) Chrome/80.0.3987.149 Mobile Safari/537.36',\n",
        "    'DNT': '1',\n",
        "    'Origin': 'https://www.iproperty.com.my',\n",
        "    'if-none-match': '\"073b35c69744014f5d2406710e188e97\"',\n",
        "    'if-modified-since': 'Mon, 18 Mar 2019 15:45:52 GMT',\n",
        "    'Connection': 'keep-alive',\n",
        "    'Accept': '*/*',\n",
        "    'Sec-Fetch-Site': 'cross-site',\n",
        "    'Sec-Fetch-Mode': 'no-cors',\n",
        "    'Accept-Language': 'en-US,en;q=0.9,ms;q=0.8',\n",
        "    'Upgrade-Insecure-Requests': '1',\n",
        "    'content-type': 'text/plain',\n",
        "    'origin': 'https://www.iproperty.com.my',\n",
        "    'Content-Length': '0',\n",
        "    'Content-Type': 'text/plain;charset=UTF-8',\n",
        "}\n",
        "\n",
        "data = {\n",
        "  'Q_LOC': 'https://www.iproperty.com.my/property/findanagent.aspx?ty=as&ak=&rk=&rmp=10&pg=1&st=&ct=&st1=&ct1='\n",
        "}\n",
        "\n",
        "name_clean = []\n",
        "phone_clean = []\n",
        "email_clean = []\n",
        "website_clean = []\n",
        "listings_clean = []\n",
        "\n",
        "#response = requests.post('https://www.iproperty.com.my/property/findanagent.aspx', headers=headers, params=params, cookies=cookies, data=data)\n",
        "\n",
        "#NB. Original query string below. It seems impossible to parse and\n",
        "#reproduce query strings 100% accurately so the one below is given\n",
        "#in case the reproduced version is not \"correct\"."
      ],
      "execution_count": 0,
      "outputs": []
    },
    {
      "cell_type": "code",
      "metadata": {
        "id": "VTcBdcMUQR9R",
        "colab_type": "code",
        "colab": {}
      },
      "source": [
        "for i in range(1, 1105):\n",
        "    \n",
        "    params = (\n",
        "    ('ty', 'as'),\n",
        "    ('ak', ''),\n",
        "    ('rk', ''),\n",
        "    ('rmp', '10'),\n",
        "    ('pg', str(i)),\n",
        "    ('st', ''),\n",
        "    ('ct', ''),\n",
        "    ('st1', ''),\n",
        "    ('ct1', ''),\n",
        "    )\n",
        "    \n",
        "    response = requests.post('https://www.iproperty.com.my/property/findanagent.aspx?ty=as&ak=&rk=&rmp=10&pg='+str(i)+'&st=&ct=&st1=&ct1=', headers=headers, cookies=cookies, data=data)\n",
        "    soup = BeautifulSoup(response.text, \"html.parser\")\n",
        "\n",
        "    name = soup.findAll('a', {'class': 'BlueBold14-1'})\n",
        "    phone = soup.findAll('a', {'class': 'csagentphonelead'})\n",
        "    email = soup.findAll('a', {'class': 'csagentemaillead'})\n",
        "    website = soup.findAll('a', {'class': 'csweblead'})\n",
        "    listings = soup.findAll('a', {'class': 'cslistinglead'})\n",
        "\n",
        "    name_list = list(name)\n",
        "    phone_list = list(phone)\n",
        "    email_list = list(email)\n",
        "    website_list = list(website)\n",
        "    listings_list = list(listings)\n",
        "\n",
        "    for i in range(len(name_list)):\n",
        "        name_clean.append(name_list[i].get_text())\n",
        "\n",
        "    for i in range(len(phone_list)):\n",
        "        phone_clean.append(phone_list[i]['data'])\n",
        "\n",
        "    for i in range(len(email_list)):\n",
        "        email_clean.append(email_list[i]['data'])\n",
        "\n",
        "    for i in range(len(website_list)):\n",
        "        website_clean.append(website_list[i]['href'])\n",
        "\n",
        "    for i in range(len(listings_list)):\n",
        "        listings_clean.append(listings_list[i].get_text())"
      ],
      "execution_count": 0,
      "outputs": []
    },
    {
      "cell_type": "code",
      "metadata": {
        "id": "0bE6uQUxQR_s",
        "colab_type": "code",
        "colab": {}
      },
      "source": [
        "df = pd.DataFrame(zip(name_clean, phone_clean, email_clean, website_clean, listings_clean))\n",
        "df = df.rename(columns = {0: \"Name\", 1: \"Phone\", 2: \"Email\", 3: \"Website\", 4: \"Listings\"})\n",
        "df"
      ],
      "execution_count": 0,
      "outputs": []
    },
    {
      "cell_type": "code",
      "metadata": {
        "id": "rOByglp4QSBx",
        "colab_type": "code",
        "colab": {}
      },
      "source": [
        "df.to_csv(\"iproperty.csv\")"
      ],
      "execution_count": 0,
      "outputs": []
    },
    {
      "cell_type": "code",
      "metadata": {
        "id": "qvHEu7RPQSEI",
        "colab_type": "code",
        "colab": {}
      },
      "source": [
        "df2 = df.loc[df['Website'] != 'http://.iagent.my']\n",
        "df2"
      ],
      "execution_count": 0,
      "outputs": []
    },
    {
      "cell_type": "code",
      "metadata": {
        "id": "oQ6V0SBaQSGf",
        "colab_type": "code",
        "colab": {}
      },
      "source": [
        "website_identify = []\n",
        "ren_list = []\n",
        "\n",
        "for i in range(0, len(df2)):\n",
        "    response2 = requests.post(df2.iloc[i, 3])\n",
        "    soup2 = BeautifulSoup(response2.text, \"html.parser\")\n",
        "    ren_number = soup2.findAll('span', {'class': 'bodytext'})\n",
        "    try:\n",
        "        ren_list.append(ren_number[2].get_text())\n",
        "    except:\n",
        "        ren_list.append(\"Not Available\")\n",
        "    website_identify.append(df.iloc[i, 3])"
      ],
      "execution_count": 0,
      "outputs": []
    },
    {
      "cell_type": "code",
      "metadata": {
        "id": "wNb_awrNQSIt",
        "colab_type": "code",
        "colab": {}
      },
      "source": [
        "website_identify"
      ],
      "execution_count": 0,
      "outputs": []
    },
    {
      "cell_type": "code",
      "metadata": {
        "id": "pla9GfMAQSLE",
        "colab_type": "code",
        "colab": {}
      },
      "source": [
        "ren_list"
      ],
      "execution_count": 0,
      "outputs": []
    },
    {
      "cell_type": "code",
      "metadata": {
        "id": "aYWk2g7UQZnX",
        "colab_type": "code",
        "colab": {}
      },
      "source": [
        "len(ren_list)"
      ],
      "execution_count": 0,
      "outputs": []
    },
    {
      "cell_type": "code",
      "metadata": {
        "id": "D02B1XCtQZqD",
        "colab_type": "code",
        "colab": {}
      },
      "source": [
        "df3 = pd.DataFrame(zip(website_identify, ren_list))\n",
        "df3 = df3.rename(columns = {0: \"Website\", 1: \"REN Number\"})\n",
        "df3.to_csv(\"ren_number.csv\")"
      ],
      "execution_count": 0,
      "outputs": []
    }
  ]
}